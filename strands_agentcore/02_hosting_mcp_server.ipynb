{
 "cells": [
  {
   "cell_type": "markdown",
   "id": "5c0122e65c053f38",
   "metadata": {},
   "source": [
    "# Hosting MCP Server on Amazon Bedrock AgentCore Runtime\n",
    "\n",
    "## Overview\n",
    "\n",
    "In this lab we will learn how to host MCP (Model Context Protocol) servers on Amazon Bedrock AgentCore Runtime. We will use the Amazon Bedrock AgentCore Python SDK to wrap MCP tools as an MCP server compatible with Amazon Bedrock AgentCore.\n",
    "\n",
    "The Amazon Bedrock AgentCore Python SDK handles the MCP server implementation details so you can focus on your tools' core functionality. It transforms your code into the AgentCore standardized MCP protocol contracts for direct communication.\n",
    "\n",
    "### Lab Architecture\n",
    "\n",
    "In this lab we will describe how to deploy an MCP server to AgentCore runtime.\n",
    "\n",
    "For demonstration purposes, we will use a simple MCP server with 3 tools: `add_numbers`, `multiply_numbers` and `greet_user`\n",
    "\n",
    "<div style=\"text-align:left\">\n",
    "    <img src=\"images/hosting_mcp_server.png\" width=\"60%\"/>\n",
    "</div>\n",
    "\n",
    "### Lab Key Features\n",
    "\n",
    "* Creating MCP servers with custom tools\n",
    "* Testing MCP servers locally\n",
    "* Hosting MCP servers on Amazon Bedrock AgentCore Runtime\n",
    "* Invoking deployed MCP servers with authentication\n"
   ]
  },
  {
   "cell_type": "markdown",
   "id": "ca924a7a2731e26f",
   "metadata": {},
   "source": [
    "## Understanding MCP (Model Context Protocol)\n",
    "\n",
    "MCP is a protocol that allows AI models to securely access external data and tools. Key concepts:\n",
    "\n",
    "* **Tools**: Functions that the AI can call to perform actions\n",
    "* **Streamable HTTP**: Transport protocol used by AgentCore Runtime\n",
    "* **Session Isolation**: Each client gets isolated sessions via `Mcp-Session-Id` header\n",
    "* **Stateless Operation**: Servers must support stateless operation for scalability\n",
    "\n",
    "AgentCore Runtime expects MCP servers to be hosted on `0.0.0.0:8000/mcp` as the default path.\n",
    "\n",
    "### Project Structure\n",
    "\n",
    "Let's set up our project with the proper structure:\n",
    "\n",
    "```\n",
    "mcp_server_project/\n",
    "├── mcp_server.py              # Main MCP server code\n",
    "├── my_mcp_client.py          # Local testing client\n",
    "├── my_mcp_client_remote.py   # Remote testing client\n",
    "├── requirements.txt          # Dependencies\n",
    "└── __init__.py              # Python package marker\n",
    "```"
   ]
  },
  {
   "cell_type": "markdown",
   "id": "step2_create_server",
   "metadata": {},
   "source": [
    "## Creating MCP Server\n",
    "\n",
    "Now let's create our MCP server with three simple tools. The server uses FastMCP with `stateless_http=True` which is required for AgentCore Runtime compatibility."
   ]
  },
  {
   "cell_type": "code",
   "execution_count": 1,
   "id": "b7d386ab54e85e63",
   "metadata": {},
   "outputs": [
    {
     "name": "stdout",
     "output_type": "stream",
     "text": [
      "Writing mcp_server.py\n"
     ]
    }
   ],
   "source": [
    "%%writefile mcp_server.py\n",
    "from mcp.server.fastmcp import FastMCP\n",
    "from starlette.responses import JSONResponse\n",
    "\n",
    "mcp = FastMCP(host=\"0.0.0.0\", stateless_http=True)\n",
    "\n",
    "@mcp.tool()\n",
    "def add_numbers(a: int, b: int) -> int:\n",
    "    \"\"\"Add two numbers together\"\"\"\n",
    "    return a + b\n",
    "\n",
    "@mcp.tool()\n",
    "def multiply_numbers(a: int, b: int) -> int:\n",
    "    \"\"\"Multiply two numbers together\"\"\"\n",
    "    return a * b\n",
    "\n",
    "@mcp.tool()\n",
    "def greet_user(name: str) -> str:\n",
    "    \"\"\"Greet a user by name\"\"\"\n",
    "    return f\"Hello, {name}! Nice to meet you.\"\n",
    "\n",
    "if __name__ == \"__main__\":\n",
    "    mcp.run(transport=\"streamable-http\")"
   ]
  },
  {
   "cell_type": "markdown",
   "id": "understand_code",
   "metadata": {},
   "source": [
    "### What This Code Does\n",
    "\n",
    "* **FastMCP**: Creates an MCP server that can host your tools\n",
    "* **@mcp.tool()**: Decorator that turns your Python functions into MCP tools\n",
    "* **stateless_http=True**: Required for AgentCore Runtime compatibility\n",
    "* **Tools**: Three simple tools demonstrating different types of operations"
   ]
  },
  {
   "cell_type": "markdown",
   "id": "step3_local_client",
   "metadata": {},
   "source": [
    "## Creating Local Testing Client\n",
    "\n",
    "Before deploying to AgentCore Runtime, let's create a client to test our MCP server locally:"
   ]
  },
  {
   "cell_type": "code",
   "execution_count": 2,
   "id": "1226d59e6b56c96",
   "metadata": {},
   "outputs": [
    {
     "name": "stdout",
     "output_type": "stream",
     "text": [
      "Writing my_mcp_client.py\n"
     ]
    }
   ],
   "source": [
    "%%writefile my_mcp_client.py\n",
    "import asyncio\n",
    "from datetime import timedelta\n",
    "\n",
    "from mcp import ClientSession\n",
    "from mcp.client.streamable_http import streamablehttp_client\n",
    "\n",
    "async def main():\n",
    "    mcp_url = \"http://localhost:8000/mcp\"\n",
    "    headers = {}\n",
    "\n",
    "    async with streamablehttp_client(mcp_url, headers, timeout=timedelta(seconds=120), terminate_on_close=False) as (\n",
    "        read_stream,\n",
    "        write_stream,\n",
    "        _,\n",
    "    ):\n",
    "        async with ClientSession(read_stream, write_stream) as session:\n",
    "            await session.initialize()\n",
    "            tool_result = await session.list_tools()\n",
    "            print(\"Available tools:\")\n",
    "            for tool in tool_result.tools:\n",
    "                print(f\"  - {tool.name}: {tool.description}\")\n",
    "\n",
    "if __name__ == \"__main__\":\n",
    "    asyncio.run(main())"
   ]
  },
  {
   "cell_type": "markdown",
   "id": "test_locally_instructions",
   "metadata": {},
   "source": [
    "### Testing Locally\n",
    "\n",
    "Test your MCP server locally. Start two terminals and navigate to the folder of this notebook (`cd strands_agentcore`).\n",
    "\n",
    "1. **Terminal 1**: Start the MCP server\n",
    "   ```bash\n",
    "   python mcp_server.py\n",
    "   ```\n",
    "   \n",
    "2. **Terminal 2**: Run the test client\n",
    "   ```bash\n",
    "   python my_mcp_client.py\n",
    "   ```\n",
    "\n",
    "You should see your three tools listed in the output."
   ]
  },
  {
   "cell_type": "markdown",
   "id": "step4_cognito_setup",
   "metadata": {},
   "source": [
    "## Setting up Amazon Cognito for Authentication\n",
    "\n",
    "AgentCore Runtime requires authentication. We'll use Amazon Cognito to provide JWT tokens for accessing our deployed MCP server."
   ]
  },
  {
   "cell_type": "code",
   "execution_count": 3,
   "id": "import_utils",
   "metadata": {},
   "outputs": [],
   "source": [
    "import sys\n",
    "import os\n",
    "\n",
    "# Get the current notebook's directory\n",
    "current_dir = os.path.dirname(os.path.abspath('__file__' if '__file__' in globals() else '.'))\n",
    "\n",
    "from utils import setup_cognito_user_pool"
   ]
  },
  {
   "cell_type": "code",
   "execution_count": 4,
   "id": "setup_cognito",
   "metadata": {},
   "outputs": [
    {
     "name": "stdout",
     "output_type": "stream",
     "text": [
      "Setting up Amazon Cognito user pool...\n",
      "Pool id: us-east-1_mM5dgziwb\n",
      "Discovery URL: https://cognito-idp.us-east-1.amazonaws.com/us-east-1_mM5dgziwb/.well-known/openid-configuration\n",
      "Client ID: 37k8l7q29vn729f2tm5of64ot4\n",
      "Bearer Token: eyJraWQiOiJHQ0xJNm4xQ0hUMFpwS3ZPM2tmKzk3U1ZGRXBFcVo3Z1k5ZlFlTUFWNmtRPSIsImFsZyI6IlJTMjU2In0.eyJzdWIiOiJmNDI4NjRiOC1iMGExLTcwMWQtODVjNC02OTE4MTM5MDY5MmIiLCJpc3MiOiJodHRwczpcL1wvY29nbml0by1pZHAudXMtZWFzdC0xLmFtYXpvbmF3cy5jb21cL3VzLWVhc3QtMV9tTTVkZ3ppd2IiLCJjbGllbnRfaWQiOiIzN2s4bDdxMjl2bjcyOWYydG01b2Y2NG90NCIsIm9yaWdpbl9qdGkiOiJlMWVlZTRjZS1hMGMzLTRhYjItODIxMy05YTYwODc1YTI0MmYiLCJldmVudF9pZCI6IjZjYTk4ZGFiLTA2N2UtNGYxNy1hYjczLTcwYjAzNmM5ZjNmNyIsInRva2VuX3VzZSI6ImFjY2VzcyIsInNjb3BlIjoiYXdzLmNvZ25pdG8uc2lnbmluLnVzZXIuYWRtaW4iLCJhdXRoX3RpbWUiOjE3NTg3MTcxMTksImV4cCI6MTc1ODcyMDcxOSwiaWF0IjoxNzU4NzE3MTE5LCJqdGkiOiJkYTFkYjE5My03MTJmLTQwMTktYTNkZC01NTYwYmFlYzVmMzciLCJ1c2VybmFtZSI6InRlc3R1c2VyIn0.mePPzD_zmNt05tOkBB0Nfz927r-jJzyvqHjBGWhBOQBn1PDepUkETCD3Zi4NTTju1fITWOwZrJU5QDKCFfM7j_xsN3IVaFXvd91gN2g1CUxCi2onoCqQDscS46BaFfl6iby0UKV-isgHiMJKwNn13jpuSTg6DiHil6zh-6h_H-4_Gbm5eLC3aQHzeEI8mm9y1QjajbEb7YPtU15_01iE9EoMEc5Y2GlThSBLUfawzb2bl7DrcOD2uV8vV9l9IR8ii-mUck_bNZXdx8YmEWAgttLSkxk1jlDT6gHXk45ifgg69oHUH8vNkgjxIPfA24vxEMUXtHwGZQBXcIxQlNxbLA\n",
      "Cognito setup completed ✓\n",
      "User Pool ID: N/A\n",
      "Client ID: 37k8l7q29vn729f2tm5of64ot4\n"
     ]
    }
   ],
   "source": [
    "print(\"Setting up Amazon Cognito user pool...\")\n",
    "cognito_config = setup_cognito_user_pool()\n",
    "print(\"Cognito setup completed ✓\")\n",
    "print(f\"User Pool ID: {cognito_config.get('user_pool_id', 'N/A')}\")\n",
    "print(f\"Client ID: {cognito_config.get('client_id', 'N/A')}\")"
   ]
  },
  {
   "cell_type": "markdown",
   "id": "step6_configure_deployment",
   "metadata": {},
   "source": [
    "## Configuring AgentCore Runtime Deployment\n",
    "\n",
    "Next we will use our starter toolkit to configure the AgentCore Runtime deployment with an entrypoint, the execution role we just created and a requirements file. We will also configure the starter kit to auto create the Amazon ECR repository on launch.\n",
    "\n",
    "During the configure step, your docker file will be generated based on your application code\n",
    "\n",
    "<div style=\"text-align:left\">\n",
    "    <img src=\"images/configure.png\" width=\"60%\"/>\n",
    "</div>"
   ]
  },
  {
   "cell_type": "code",
   "execution_count": 5,
   "id": "configure_runtime",
   "metadata": {},
   "outputs": [
    {
     "name": "stderr",
     "output_type": "stream",
     "text": [
      "Entrypoint parsed: file=/workshop/strands_agentcore/mcp_server.py, bedrock_agentcore_name=mcp_server\n",
      "Configuring BedrockAgentCore agent: mcp_server_agentcore_8803e86f\n"
     ]
    },
    {
     "name": "stdout",
     "output_type": "stream",
     "text": [
      "Using AWS region: us-east-1\n",
      "All required files found ✓\n",
      "Configuring AgentCore Runtime with agentname mcp_server_agentcore_8803e86f\n"
     ]
    },
    {
     "data": {
      "text/html": [
       "<pre style=\"white-space:pre;overflow-x:auto;line-height:normal;font-family:Menlo,'DejaVu Sans Mono',consolas,'Courier New',monospace\">\n",
       "<span style=\"color: #808000; text-decoration-color: #808000; font-weight: bold; text-decoration: underline\">⚠️  ℹ️  No container engine found (Docker/Finch/Podman not installed)</span>\n",
       "<span style=\"color: #808000; text-decoration-color: #808000; font-weight: bold; text-decoration: underline\">✅ Default deployment uses CodeBuild (no container engine needed)</span>\n",
       "<span style=\"color: #808000; text-decoration-color: #808000; font-weight: bold; text-decoration: underline\">💡 Run </span><span style=\"color: #008000; text-decoration-color: #008000; text-decoration: underline\">'agentcore launch'</span><span style=\"color: #808000; text-decoration-color: #808000; font-weight: bold; text-decoration: underline\"> for cloud-based building and deployment</span>\n",
       "<span style=\"color: #808000; text-decoration-color: #808000; font-weight: bold; text-decoration: underline\">💡 For local builds, install Docker, Finch, or Podman</span>\n",
       "</pre>\n"
      ],
      "text/plain": [
       "\n",
       "\u001b[1;4;33m⚠️  ℹ️  No container engine found \u001b[0m\u001b[1;4;33m(\u001b[0m\u001b[1;4;33mDocker/Finch/Podman not installed\u001b[0m\u001b[1;4;33m)\u001b[0m\n",
       "\u001b[1;4;33m✅ Default deployment uses CodeBuild \u001b[0m\u001b[1;4;33m(\u001b[0m\u001b[1;4;33mno container engine needed\u001b[0m\u001b[1;4;33m)\u001b[0m\n",
       "\u001b[1;4;33m💡 Run \u001b[0m\u001b[4;32m'agentcore launch'\u001b[0m\u001b[1;4;33m for cloud-based building and deployment\u001b[0m\n",
       "\u001b[1;4;33m💡 For local builds, install Docker, Finch, or Podman\u001b[0m\n"
      ]
     },
     "metadata": {},
     "output_type": "display_data"
    },
    {
     "name": "stderr",
     "output_type": "stream",
     "text": [
      "Generated Dockerfile: /workshop/strands_agentcore/Dockerfile\n",
      "Generated .dockerignore: /workshop/strands_agentcore/.dockerignore\n",
      "Changing default agent from 'strands_claude_getting_started_cb098c4e' to 'mcp_server_agentcore_8803e86f'\n",
      "Bedrock AgentCore configured: /workshop/strands_agentcore/.bedrock_agentcore.yaml\n"
     ]
    },
    {
     "name": "stdout",
     "output_type": "stream",
     "text": [
      "Configuration completed ✓\n"
     ]
    }
   ],
   "source": [
    "from bedrock_agentcore_starter_toolkit import Runtime\n",
    "from boto3.session import Session\n",
    "import time\n",
    "import uuid\n",
    "\n",
    "boto_session = Session()\n",
    "region = boto_session.region_name\n",
    "print(f\"Using AWS region: {region}\")\n",
    "\n",
    "required_files = ['mcp_server.py', 'requirements_for_runtime.txt']\n",
    "for file in required_files:\n",
    "    if not os.path.exists(file):\n",
    "        raise FileNotFoundError(f\"Required file {file} not found\")\n",
    "print(\"All required files found ✓\")\n",
    "\n",
    "agentcore_runtime = Runtime()\n",
    "\n",
    "auth_config = {\n",
    "    \"customJWTAuthorizer\": {\n",
    "        \"allowedClients\": [\n",
    "            cognito_config['client_id']\n",
    "        ],\n",
    "        \"discoveryUrl\": cognito_config['discovery_url'],\n",
    "    }\n",
    "}\n",
    "\n",
    "agent_name = f\"mcp_server_agentcore_{str(uuid.uuid4())[:8]}\"\n",
    "\n",
    "print(f\"Configuring AgentCore Runtime with agentname {agent_name}\")\n",
    "response = agentcore_runtime.configure(\n",
    "    entrypoint=\"mcp_server.py\",\n",
    "    auto_create_execution_role=True,\n",
    "    auto_create_ecr=True,\n",
    "    requirements_file=\"requirements_for_runtime.txt\",\n",
    "    region=region,\n",
    "    authorizer_configuration=auth_config,\n",
    "    protocol=\"MCP\",\n",
    "    agent_name=agent_name\n",
    ")\n",
    "\n",
    "print(\"Configuration completed ✓\")"
   ]
  },
  {
   "cell_type": "markdown",
   "id": "step7_launch",
   "metadata": {},
   "source": [
    "## Launching MCP Server to AgentCore Runtime\n",
    "\n",
    "Now that we've got a docker file, let's launch the MCP server to the AgentCore Runtime. This will create the Amazon ECR repository and the AgentCore Runtime\n",
    "\n",
    "<div style=\"text-align:left\">\n",
    "    <img src=\"images/launch.png\" width=\"85%\"/>\n",
    "</div>"
   ]
  },
  {
   "cell_type": "code",
   "execution_count": 6,
   "id": "17a32ab8-7701-4900-8055-e24364bdf35c",
   "metadata": {},
   "outputs": [
    {
     "name": "stderr",
     "output_type": "stream",
     "text": [
      "🚀 CodeBuild mode: building in cloud (RECOMMENDED - DEFAULT)\n",
      "   • Build ARM64 containers in the cloud with CodeBuild\n",
      "   • No local Docker required\n",
      "💡 Available deployment modes:\n",
      "   • runtime.launch()                           → CodeBuild (current)\n",
      "   • runtime.launch(local=True)                 → Local development\n",
      "   • runtime.launch(local_build=True)           → Local build + cloud deploy (NEW)\n",
      "Starting CodeBuild ARM64 deployment for agent 'mcp_server_agentcore_8803e86f' to account 522040354751 (us-east-1)\n",
      "Setting up AWS resources (ECR repository, execution roles)...\n",
      "Getting or creating ECR repository for agent: mcp_server_agentcore_8803e86f\n"
     ]
    },
    {
     "name": "stdout",
     "output_type": "stream",
     "text": [
      "Launching MCP server to AgentCore Runtime...\n",
      "This may take several minutes...\n",
      "Repository doesn't exist, creating new ECR repository: bedrock-agentcore-mcp_server_agentcore_8803e86f\n"
     ]
    },
    {
     "name": "stderr",
     "output_type": "stream",
     "text": [
      "✅ ECR repository available: 522040354751.dkr.ecr.us-east-1.amazonaws.com/bedrock-agentcore-mcp_server_agentcore_8803e86f\n",
      "Getting or creating execution role for agent: mcp_server_agentcore_8803e86f\n",
      "Using AWS region: us-east-1, account ID: 522040354751\n",
      "Role name: AmazonBedrockAgentCoreSDKRuntime-us-east-1-ffa0863889\n",
      "Role doesn't exist, creating new execution role: AmazonBedrockAgentCoreSDKRuntime-us-east-1-ffa0863889\n",
      "Starting execution role creation process for agent: mcp_server_agentcore_8803e86f\n",
      "✓ Role creating: AmazonBedrockAgentCoreSDKRuntime-us-east-1-ffa0863889\n",
      "Creating IAM role: AmazonBedrockAgentCoreSDKRuntime-us-east-1-ffa0863889\n",
      "✓ Role created: arn:aws:iam::522040354751:role/AmazonBedrockAgentCoreSDKRuntime-us-east-1-ffa0863889\n",
      "✓ Execution policy attached: BedrockAgentCoreRuntimeExecutionPolicy-mcp_server_agentcore_8803e86f\n",
      "Role creation complete and ready for use with Bedrock AgentCore\n",
      "✅ Execution role available: arn:aws:iam::522040354751:role/AmazonBedrockAgentCoreSDKRuntime-us-east-1-ffa0863889\n",
      "Preparing CodeBuild project and uploading source...\n",
      "Getting or creating CodeBuild execution role for agent: mcp_server_agentcore_8803e86f\n",
      "Role name: AmazonBedrockAgentCoreSDKCodeBuild-us-east-1-ffa0863889\n",
      "CodeBuild role doesn't exist, creating new role: AmazonBedrockAgentCoreSDKCodeBuild-us-east-1-ffa0863889\n",
      "Creating IAM role: AmazonBedrockAgentCoreSDKCodeBuild-us-east-1-ffa0863889\n",
      "✓ Role created: arn:aws:iam::522040354751:role/AmazonBedrockAgentCoreSDKCodeBuild-us-east-1-ffa0863889\n",
      "Attaching inline policy: CodeBuildExecutionPolicy to role: AmazonBedrockAgentCoreSDKCodeBuild-us-east-1-ffa0863889\n",
      "✓ Policy attached: CodeBuildExecutionPolicy\n",
      "Waiting for IAM role propagation...\n",
      "CodeBuild execution role creation complete: arn:aws:iam::522040354751:role/AmazonBedrockAgentCoreSDKCodeBuild-us-east-1-ffa0863889\n",
      "Using .dockerignore with 44 patterns\n",
      "Uploaded source to S3: mcp_server_agentcore_8803e86f/source.zip\n",
      "Created CodeBuild project: bedrock-agentcore-mcp_server_agentcore_8803e86f-builder\n",
      "Starting CodeBuild build (this may take several minutes)...\n",
      "Starting CodeBuild monitoring...\n",
      "🔄 QUEUED started (total: 0s)\n",
      "✅ QUEUED completed in 1.0s\n",
      "🔄 PROVISIONING started (total: 1s)\n",
      "✅ PROVISIONING completed in 8.3s\n",
      "🔄 DOWNLOAD_SOURCE started (total: 9s)\n",
      "✅ DOWNLOAD_SOURCE completed in 2.1s\n",
      "🔄 BUILD started (total: 11s)\n",
      "✅ BUILD completed in 15.5s\n",
      "🔄 POST_BUILD started (total: 27s)\n",
      "✅ POST_BUILD completed in 11.4s\n",
      "🔄 UPLOAD_ARTIFACTS started (total: 38s)\n",
      "✅ UPLOAD_ARTIFACTS completed in 1.0s\n",
      "🔄 COMPLETED started (total: 39s)\n",
      "✅ COMPLETED completed in 1.0s\n",
      "🎉 CodeBuild completed successfully in 0m 40s\n",
      "CodeBuild completed successfully\n",
      "✅ CodeBuild project configuration saved\n",
      "Deploying to Bedrock AgentCore...\n",
      "✅ Agent created/updated: arn:aws:bedrock-agentcore:us-east-1:522040354751:runtime/mcp_server_agentcore_8803e86f-6Wd4eoDqHL\n",
      "Polling for endpoint to be ready...\n",
      "Agent endpoint: arn:aws:bedrock-agentcore:us-east-1:522040354751:runtime/mcp_server_agentcore_8803e86f-6Wd4eoDqHL/runtime-endpoint/DEFAULT\n",
      "Deployment completed successfully - Agent: arn:aws:bedrock-agentcore:us-east-1:522040354751:runtime/mcp_server_agentcore_8803e86f-6Wd4eoDqHL\n",
      "Built with CodeBuild: bedrock-agentcore-mcp_server_agentcore_8803e86f-builder:e056c82f-f852-4d01-9527-e423fb874ef8\n",
      "Deployed to cloud: arn:aws:bedrock-agentcore:us-east-1:522040354751:runtime/mcp_server_agentcore_8803e86f-6Wd4eoDqHL\n",
      "ECR image: 522040354751.dkr.ecr.us-east-1.amazonaws.com/bedrock-agentcore-mcp_server_agentcore_8803e86f\n",
      "🔍 Agent logs available at:\n",
      "   /aws/bedrock-agentcore/runtimes/mcp_server_agentcore_8803e86f-6Wd4eoDqHL-DEFAULT --log-stream-name-prefix \"2025/09/24/\\[runtime-logs]\"\n",
      "   /aws/bedrock-agentcore/runtimes/mcp_server_agentcore_8803e86f-6Wd4eoDqHL-DEFAULT --log-stream-names \"otel-rt-logs\"\n",
      "💡 Tail logs with: aws logs tail /aws/bedrock-agentcore/runtimes/mcp_server_agentcore_8803e86f-6Wd4eoDqHL-DEFAULT --log-stream-name-prefix \"2025/09/24/\\[runtime-logs]\" --follow\n",
      "💡 Or view recent logs: aws logs tail /aws/bedrock-agentcore/runtimes/mcp_server_agentcore_8803e86f-6Wd4eoDqHL-DEFAULT --log-stream-name-prefix \"2025/09/24/\\[runtime-logs]\" --since 1h\n"
     ]
    },
    {
     "name": "stdout",
     "output_type": "stream",
     "text": [
      "Launch completed ✓\n",
      "Agent ARN: arn:aws:bedrock-agentcore:us-east-1:522040354751:runtime/mcp_server_agentcore_8803e86f-6Wd4eoDqHL\n",
      "Agent ID: mcp_server_agentcore_8803e86f-6Wd4eoDqHL\n"
     ]
    }
   ],
   "source": [
    "print(\"Launching MCP server to AgentCore Runtime...\")\n",
    "print(\"This may take several minutes...\")\n",
    "launch_result = agentcore_runtime.launch()\n",
    "print(\"Launch completed ✓\")\n",
    "print(f\"Agent ARN: {launch_result.agent_arn}\")\n",
    "print(f\"Agent ID: {launch_result.agent_id}\")"
   ]
  },
  {
   "cell_type": "markdown",
   "id": "step8_check_status",
   "metadata": {},
   "source": [
    "## Checking AgentCore Runtime Status\n",
    "\n",
    "Now that we've deployed the AgentCore Runtime, let's check for its deployment status and wait for it to be ready:"
   ]
  },
  {
   "cell_type": "code",
   "execution_count": 7,
   "id": "afa6ac09-9adb-4846-9fc1-4d12aeb74853",
   "metadata": {},
   "outputs": [
    {
     "name": "stdout",
     "output_type": "stream",
     "text": [
      "Checking AgentCore Runtime status...\n"
     ]
    },
    {
     "name": "stderr",
     "output_type": "stream",
     "text": [
      "Retrieved Bedrock AgentCore status for: mcp_server_agentcore_8803e86f\n"
     ]
    },
    {
     "name": "stdout",
     "output_type": "stream",
     "text": [
      "Initial status: READY\n",
      "✓ AgentCore Runtime is READY!\n",
      "Final status: READY\n"
     ]
    }
   ],
   "source": [
    "print(\"Checking AgentCore Runtime status...\")\n",
    "status_response = agentcore_runtime.status()\n",
    "status = status_response.endpoint['status']\n",
    "print(f\"Initial status: {status}\")\n",
    "\n",
    "end_status = ['READY', 'CREATE_FAILED', 'DELETE_FAILED', 'UPDATE_FAILED']\n",
    "while status not in end_status:\n",
    "    print(f\"Status: {status} - waiting...\")\n",
    "    time.sleep(10)\n",
    "    status_response = agentcore_runtime.status()\n",
    "    status = status_response.endpoint['status']\n",
    "\n",
    "if status == 'READY':\n",
    "    print(\"✓ AgentCore Runtime is READY!\")\n",
    "else:\n",
    "    print(f\"⚠ AgentCore Runtime status: {status}\")\n",
    "    \n",
    "print(f\"Final status: {status}\")"
   ]
  },
  {
   "cell_type": "markdown",
   "id": "step9_store_credentials",
   "metadata": {},
   "source": [
    "## Storing Configuration for Remote Access\n",
    "\n",
    "Before we can invoke our deployed MCP server, let's store the Agent ARN and Cognito configuration in AWS Systems Manager Parameter Store and AWS Secrets Manager for easy retrieval:"
   ]
  },
  {
   "cell_type": "code",
   "execution_count": 8,
   "id": "store_config",
   "metadata": {},
   "outputs": [
    {
     "name": "stdout",
     "output_type": "stream",
     "text": [
      "✓ Cognito credentials stored in Secrets Manager\n",
      "✓ Agent ARN stored in Parameter Store\n",
      "\n",
      "Configuration stored successfully!\n",
      "Agent ARN: arn:aws:bedrock-agentcore:us-east-1:522040354751:runtime/mcp_server_agentcore_8803e86f-6Wd4eoDqHL\n"
     ]
    }
   ],
   "source": [
    "import boto3\n",
    "import json\n",
    "\n",
    "ssm_client = boto3.client('ssm', region_name=region)\n",
    "secrets_client = boto3.client('secretsmanager', region_name=region)\n",
    "\n",
    "try:\n",
    "    cognito_credentials_response = secrets_client.create_secret(\n",
    "        Name='mcp_server/cognito/credentials',\n",
    "        Description='Cognito credentials for MCP server',\n",
    "        SecretString=json.dumps(cognito_config)\n",
    "    )\n",
    "    print(\"✓ Cognito credentials stored in Secrets Manager\")\n",
    "except secrets_client.exceptions.ResourceExistsException:\n",
    "    secrets_client.update_secret(\n",
    "        SecretId='mcp_server/cognito/credentials',\n",
    "        SecretString=json.dumps(cognito_config)\n",
    "    )\n",
    "    print(\"✓ Cognito credentials updated in Secrets Manager\")\n",
    "\n",
    "agent_arn_response = ssm_client.put_parameter(\n",
    "    Name='/mcp_server/runtime/agent_arn',\n",
    "    Value=launch_result.agent_arn,\n",
    "    Type='String',\n",
    "    Description='Agent ARN for MCP server',\n",
    "    Overwrite=True\n",
    ")\n",
    "print(\"✓ Agent ARN stored in Parameter Store\")\n",
    "\n",
    "print(\"\\nConfiguration stored successfully!\")\n",
    "print(f\"Agent ARN: {launch_result.agent_arn}\")"
   ]
  },
  {
   "cell_type": "markdown",
   "id": "step10_remote_client",
   "metadata": {},
   "source": [
    "## Creating Remote Testing Client\n",
    "\n",
    "Now let's create a client to test our deployed MCP server. This client will retrieve the necessary credentials from AWS and connect to the deployed server:"
   ]
  },
  {
   "cell_type": "code",
   "execution_count": 9,
   "id": "create_remote_client",
   "metadata": {},
   "outputs": [
    {
     "name": "stdout",
     "output_type": "stream",
     "text": [
      "Writing my_mcp_client_remote.py\n"
     ]
    }
   ],
   "source": [
    "%%writefile my_mcp_client_remote.py\n",
    "import asyncio\n",
    "import boto3\n",
    "import json\n",
    "import sys\n",
    "from boto3.session import Session\n",
    "from datetime import timedelta\n",
    "\n",
    "from mcp import ClientSession\n",
    "from mcp.client.streamable_http import streamablehttp_client\n",
    "\n",
    "async def main():\n",
    "    boto_session = Session()\n",
    "    region = boto_session.region_name\n",
    "    \n",
    "    print(f\"Using AWS region: {region}\")\n",
    "    \n",
    "    try:\n",
    "        ssm_client = boto3.client('ssm', region_name=region)\n",
    "        agent_arn_response = ssm_client.get_parameter(Name='/mcp_server/runtime/agent_arn')\n",
    "        agent_arn = agent_arn_response['Parameter']['Value']\n",
    "        print(f\"Retrieved Agent ARN: {agent_arn}\")\n",
    "\n",
    "        secrets_client = boto3.client('secretsmanager', region_name=region)\n",
    "        response = secrets_client.get_secret_value(SecretId='mcp_server/cognito/credentials')\n",
    "        secret_value = response['SecretString']\n",
    "        parsed_secret = json.loads(secret_value)\n",
    "        bearer_token = parsed_secret['bearer_token']\n",
    "        print(\"✓ Retrieved bearer token from Secrets Manager\")\n",
    "        \n",
    "    except Exception as e:\n",
    "        print(f\"Error retrieving credentials: {e}\")\n",
    "        sys.exit(1)\n",
    "    \n",
    "    if not agent_arn or not bearer_token:\n",
    "        print(\"Error: AGENT_ARN or BEARER_TOKEN not retrieved properly\")\n",
    "        sys.exit(1)\n",
    "    \n",
    "    encoded_arn = agent_arn.replace(':', '%3A').replace('/', '%2F')\n",
    "    mcp_url = f\"https://bedrock-agentcore.{region}.amazonaws.com/runtimes/{encoded_arn}/invocations?qualifier=DEFAULT\"\n",
    "    headers = {\n",
    "        \"authorization\": f\"Bearer {bearer_token}\",\n",
    "        \"Content-Type\": \"application/json\"\n",
    "    }\n",
    "    \n",
    "    print(f\"\\nConnecting to: {mcp_url}\")\n",
    "    print(\"Headers configured ✓\")\n",
    "\n",
    "    try:\n",
    "        async with streamablehttp_client(mcp_url, headers, timeout=timedelta(seconds=120), terminate_on_close=False) as (\n",
    "            read_stream,\n",
    "            write_stream,\n",
    "            _,\n",
    "        ):\n",
    "            async with ClientSession(read_stream, write_stream) as session:\n",
    "                print(\"\\n🔄 Initializing MCP session...\")\n",
    "                await session.initialize()\n",
    "                print(\"✓ MCP session initialized\")\n",
    "                \n",
    "                print(\"\\n🔄 Listing available tools...\")\n",
    "                tool_result = await session.list_tools()\n",
    "                \n",
    "                print(\"\\n📋 Available MCP Tools:\")\n",
    "                print(\"=\" * 50)\n",
    "                for tool in tool_result.tools:\n",
    "                    print(f\"🔧 {tool.name}\")\n",
    "                    print(f\"   Description: {tool.description}\")\n",
    "                    if hasattr(tool, 'inputSchema') and tool.inputSchema:\n",
    "                        properties = tool.inputSchema.get('properties', {})\n",
    "                        if properties:\n",
    "                            print(f\"   Parameters: {list(properties.keys())}\")\n",
    "                    print()\n",
    "                \n",
    "                print(f\"✅ Successfully connected to MCP server!\")\n",
    "                print(f\"Found {len(tool_result.tools)} tools available.\")\n",
    "                \n",
    "    except Exception as e:\n",
    "        print(f\"❌ Error connecting to MCP server: {e}\")\n",
    "        sys.exit(1)\n",
    "\n",
    "if __name__ == \"__main__\":\n",
    "    asyncio.run(main())"
   ]
  },
  {
   "cell_type": "markdown",
   "id": "step11_test_remote",
   "metadata": {},
   "source": [
    "## Testing Your Deployed MCP Server\n",
    "\n",
    "Let's test our deployed MCP server using the remote client:"
   ]
  },
  {
   "cell_type": "code",
   "execution_count": 10,
   "id": "test_remote_server",
   "metadata": {},
   "outputs": [
    {
     "name": "stdout",
     "output_type": "stream",
     "text": [
      "Testing deployed MCP server...\n",
      "==================================================\n",
      "Using AWS region: us-east-1\n",
      "Retrieved Agent ARN: arn:aws:bedrock-agentcore:us-east-1:522040354751:runtime/mcp_server_agentcore_8803e86f-6Wd4eoDqHL\n",
      "✓ Retrieved bearer token from Secrets Manager\n",
      "\n",
      "Connecting to: https://bedrock-agentcore.us-east-1.amazonaws.com/runtimes/arn%3Aaws%3Abedrock-agentcore%3Aus-east-1%3A522040354751%3Aruntime%2Fmcp_server_agentcore_8803e86f-6Wd4eoDqHL/invocations?qualifier=DEFAULT\n",
      "Headers configured ✓\n",
      "\n",
      "🔄 Initializing MCP session...\n",
      "✓ MCP session initialized\n",
      "\n",
      "🔄 Listing available tools...\n",
      "\n",
      "📋 Available MCP Tools:\n",
      "==================================================\n",
      "🔧 add_numbers\n",
      "   Description: Add two numbers together\n",
      "   Parameters: ['a', 'b']\n",
      "\n",
      "🔧 multiply_numbers\n",
      "   Description: Multiply two numbers together\n",
      "   Parameters: ['a', 'b']\n",
      "\n",
      "🔧 greet_user\n",
      "   Description: Greet a user by name\n",
      "   Parameters: ['name']\n",
      "\n",
      "✅ Successfully connected to MCP server!\n",
      "Found 3 tools available.\n"
     ]
    }
   ],
   "source": [
    "print(\"Testing deployed MCP server...\")\n",
    "print(\"=\" * 50)\n",
    "!python my_mcp_client_remote.py"
   ]
  },
  {
   "cell_type": "markdown",
   "id": "step12_invoke_tools",
   "metadata": {},
   "source": [
    "## Invoking MCP Tools Remotely\n",
    "\n",
    "Now let's create an enhanced client that not only lists tools but also invokes them to demonstrate the full MCP functionality:"
   ]
  },
  {
   "cell_type": "code",
   "execution_count": 11,
   "id": "invoke_mcp_tools",
   "metadata": {},
   "outputs": [
    {
     "name": "stdout",
     "output_type": "stream",
     "text": [
      "Writing invoke_mcp_tools.py\n"
     ]
    }
   ],
   "source": [
    "%%writefile invoke_mcp_tools.py\n",
    "import asyncio\n",
    "import boto3\n",
    "import json\n",
    "import sys\n",
    "from boto3.session import Session\n",
    "from datetime import timedelta\n",
    "\n",
    "from mcp import ClientSession\n",
    "from mcp.client.streamable_http import streamablehttp_client\n",
    "\n",
    "async def main():\n",
    "    boto_session = Session()\n",
    "    region = boto_session.region_name\n",
    "    \n",
    "    print(f\"Using AWS region: {region}\")\n",
    "    \n",
    "    try:\n",
    "        ssm_client = boto3.client('ssm', region_name=region)\n",
    "        agent_arn_response = ssm_client.get_parameter(Name='/mcp_server/runtime/agent_arn')\n",
    "        agent_arn = agent_arn_response['Parameter']['Value']\n",
    "        print(f\"Retrieved Agent ARN: {agent_arn}\")\n",
    "\n",
    "        secrets_client = boto3.client('secretsmanager', region_name=region)\n",
    "        response = secrets_client.get_secret_value(SecretId='mcp_server/cognito/credentials')\n",
    "        secret_value = response['SecretString']\n",
    "        parsed_secret = json.loads(secret_value)\n",
    "        bearer_token = parsed_secret['bearer_token']\n",
    "        print(\"✓ Retrieved bearer token from Secrets Manager\")\n",
    "        \n",
    "    except Exception as e:\n",
    "        print(f\"Error retrieving credentials: {e}\")\n",
    "        sys.exit(1)\n",
    "    \n",
    "    encoded_arn = agent_arn.replace(':', '%3A').replace('/', '%2F')\n",
    "    mcp_url = f\"https://bedrock-agentcore.{region}.amazonaws.com/runtimes/{encoded_arn}/invocations?qualifier=DEFAULT\"\n",
    "    headers = {\n",
    "        \"authorization\": f\"Bearer {bearer_token}\",\n",
    "        \"Content-Type\": \"application/json\"\n",
    "    }\n",
    "    \n",
    "    print(f\"\\nConnecting to: {mcp_url}\")\n",
    "\n",
    "    try:\n",
    "        async with streamablehttp_client(mcp_url, headers, timeout=timedelta(seconds=120), terminate_on_close=False) as (\n",
    "            read_stream,\n",
    "            write_stream,\n",
    "            _,\n",
    "        ):\n",
    "            async with ClientSession(read_stream, write_stream) as session:\n",
    "                print(\"\\n🔄 Initializing MCP session...\")\n",
    "                await session.initialize()\n",
    "                print(\"✓ MCP session initialized\")\n",
    "                \n",
    "                print(\"\\n🔄 Listing available tools...\")\n",
    "                tool_result = await session.list_tools()\n",
    "                \n",
    "                print(\"\\n📋 Available MCP Tools:\")\n",
    "                print(\"=\" * 50)\n",
    "                for tool in tool_result.tools:\n",
    "                    print(f\"🔧 {tool.name}: {tool.description}\")\n",
    "                \n",
    "                print(\"\\n🧪 Testing MCP Tools:\")\n",
    "                print(\"=\" * 50)\n",
    "                \n",
    "                try:\n",
    "                    print(\"\\n➕ Testing add_numbers(5, 3)...\")\n",
    "                    add_result = await session.call_tool(\n",
    "                        name=\"add_numbers\",\n",
    "                        arguments={\"a\": 5, \"b\": 3}\n",
    "                    )\n",
    "                    print(f\"   Result: {add_result.content[0].text}\")\n",
    "                except Exception as e:\n",
    "                    print(f\"   Error: {e}\")\n",
    "                \n",
    "                try:\n",
    "                    print(\"\\n✖️  Testing multiply_numbers(4, 7)...\")\n",
    "                    multiply_result = await session.call_tool(\n",
    "                        name=\"multiply_numbers\",\n",
    "                        arguments={\"a\": 4, \"b\": 7}\n",
    "                    )\n",
    "                    print(f\"   Result: {multiply_result.content[0].text}\")\n",
    "                except Exception as e:\n",
    "                    print(f\"   Error: {e}\")\n",
    "                \n",
    "                try:\n",
    "                    print(\"\\n👋 Testing greet_user('Alice')...\")\n",
    "                    greet_result = await session.call_tool(\n",
    "                        name=\"greet_user\",\n",
    "                        arguments={\"name\": \"Alice\"}\n",
    "                    )\n",
    "                    print(f\"   Result: {greet_result.content[0].text}\")\n",
    "                except Exception as e:\n",
    "                    print(f\"   Error: {e}\")\n",
    "                \n",
    "                print(\"\\n✅ MCP tool testing completed!\")\n",
    "                \n",
    "    except Exception as e:\n",
    "        print(f\"❌ Error connecting to MCP server: {e}\")\n",
    "        sys.exit(1)\n",
    "\n",
    "if __name__ == \"__main__\":\n",
    "    asyncio.run(main())"
   ]
  },
  {
   "cell_type": "markdown",
   "id": "test_tool_invocation",
   "metadata": {},
   "source": [
    "## Test Tool Invocation\n",
    "\n",
    "Let's test our MCP tools by actually invoking them:"
   ]
  },
  {
   "cell_type": "code",
   "execution_count": 12,
   "id": "run_tool_tests",
   "metadata": {},
   "outputs": [
    {
     "name": "stdout",
     "output_type": "stream",
     "text": [
      "Testing MCP tool invocation...\n",
      "==================================================\n",
      "Using AWS region: us-east-1\n",
      "Retrieved Agent ARN: arn:aws:bedrock-agentcore:us-east-1:522040354751:runtime/mcp_server_agentcore_8803e86f-6Wd4eoDqHL\n",
      "✓ Retrieved bearer token from Secrets Manager\n",
      "\n",
      "Connecting to: https://bedrock-agentcore.us-east-1.amazonaws.com/runtimes/arn%3Aaws%3Abedrock-agentcore%3Aus-east-1%3A522040354751%3Aruntime%2Fmcp_server_agentcore_8803e86f-6Wd4eoDqHL/invocations?qualifier=DEFAULT\n",
      "\n",
      "🔄 Initializing MCP session...\n",
      "✓ MCP session initialized\n",
      "\n",
      "🔄 Listing available tools...\n",
      "\n",
      "📋 Available MCP Tools:\n",
      "==================================================\n",
      "🔧 add_numbers: Add two numbers together\n",
      "🔧 multiply_numbers: Multiply two numbers together\n",
      "🔧 greet_user: Greet a user by name\n",
      "\n",
      "🧪 Testing MCP Tools:\n",
      "==================================================\n",
      "\n",
      "➕ Testing add_numbers(5, 3)...\n",
      "   Result: 8\n",
      "\n",
      "✖️  Testing multiply_numbers(4, 7)...\n",
      "   Result: 28\n",
      "\n",
      "👋 Testing greet_user('Alice')...\n",
      "   Result: Hello, Alice! Nice to meet you.\n",
      "\n",
      "✅ MCP tool testing completed!\n"
     ]
    }
   ],
   "source": [
    "print(\"Testing MCP tool invocation...\")\n",
    "print(\"=\" * 50)\n",
    "!python invoke_mcp_tools.py"
   ]
  },
  {
   "cell_type": "markdown",
   "id": "next_steps",
   "metadata": {},
   "source": [
    "## Next Steps\n",
    "\n",
    "Now that you have successfully deployed an MCP server to AgentCore Runtime, you can:\n",
    "\n",
    "1. **Add More Tools**: Extend your MCP server with additional tools\n",
    "2. **Custom Authentication**: Implement custom JWT authorizers\n",
    "3. **Integration**: Integrate with other AgentCore services"
   ]
  },
  {
   "cell_type": "markdown",
   "id": "cleanup_section",
   "metadata": {},
   "source": [
    "## Cleanup (Optional)\n",
    "\n",
    "If you want to clean up the resources created during this lab, run the following cells:"
   ]
  },
  {
   "cell_type": "code",
   "execution_count": 13,
   "id": "cleanup_resources",
   "metadata": {},
   "outputs": [
    {
     "name": "stdout",
     "output_type": "stream",
     "text": [
      "🗑️  Starting cleanup process...\n",
      "Deleting AgentCore Runtime...\n",
      "✓ AgentCore Runtime deletion initiated\n",
      "Deleting ECR repository...\n",
      "✓ ECR repository deleted\n",
      "✓ Parameter Store parameter deleted\n",
      "✓ Secrets Manager secret deleted\n",
      "\n",
      "✅ Cleanup completed successfully!\n"
     ]
    }
   ],
   "source": [
    "import boto3\n",
    "\n",
    "print(\"🗑️  Starting cleanup process...\")\n",
    "\n",
    "agentcore_control_client = boto3.client('bedrock-agentcore-control', region_name=region)\n",
    "ecr_client = boto3.client('ecr', region_name=region)\n",
    "ssm_client = boto3.client('ssm', region_name=region)\n",
    "secrets_client = boto3.client('secretsmanager', region_name=region)\n",
    "\n",
    "try:\n",
    "    print(\"Deleting AgentCore Runtime...\")\n",
    "    runtime_delete_response = agentcore_control_client.delete_agent_runtime(\n",
    "        agentRuntimeId=launch_result.agent_id,\n",
    "    )\n",
    "    print(\"✓ AgentCore Runtime deletion initiated\")\n",
    "\n",
    "    print(\"Deleting ECR repository...\")\n",
    "    ecr_repo_name = launch_result.ecr_uri.split('/')[1]\n",
    "    ecr_client.delete_repository(\n",
    "        repositoryName=ecr_repo_name,\n",
    "        force=True\n",
    "    )\n",
    "    print(\"✓ ECR repository deleted\")\n",
    "\n",
    "    try:\n",
    "        ssm_client.delete_parameter(Name='/mcp_server/runtime/agent_arn')\n",
    "        print(\"✓ Parameter Store parameter deleted\")\n",
    "    except ssm_client.exceptions.ParameterNotFound:\n",
    "        print(\"ℹ️  Parameter Store parameter not found\")\n",
    "    try:\n",
    "        secrets_client.delete_secret(\n",
    "            SecretId='mcp_server/cognito/credentials',\n",
    "            ForceDeleteWithoutRecovery=True\n",
    "        )\n",
    "        print(\"✓ Secrets Manager secret deleted\")\n",
    "    except secrets_client.exceptions.ResourceNotFoundException:\n",
    "        print(\"ℹ️  Secrets Manager secret not found\")\n",
    "\n",
    "    print(\"\\n✅ Cleanup completed successfully!\")\n",
    "    \n",
    "except Exception as e:\n",
    "    print(f\"❌ Error during cleanup: {e}\")\n",
    "    print(\"You may need to manually clean up some resources.\")"
   ]
  },
  {
   "cell_type": "markdown",
   "id": "congratulations",
   "metadata": {},
   "source": [
    "# 🎉 Congratulations!\n",
    "\n",
    "You have successfully:\n",
    "\n",
    "✅ **Created an MCP server** with custom tools  \n",
    "✅ **Tested locally** using MCP client  \n",
    "✅ **Set up authentication** with Amazon Cognito  \n",
    "✅ **Deployed to AWS** using AgentCore Runtime  \n",
    "✅ **Invoked remotely** with proper authentication  \n",
    "✅ **Learned MCP concepts** and best practices  \n",
    "\n",
    "Your MCP server is now running on Amazon Bedrock AgentCore Runtime and ready for production use!\n",
    "\n",
    "## Summary\n",
    "\n",
    "In this lab, you learned how to:\n",
    "- Build MCP servers using FastMCP\n",
    "- Configure stateless HTTP transport for AgentCore compatibility\n",
    "- Set up JWT authentication with Amazon Cognito\n",
    "- Deploy and manage MCP servers on AWS\n",
    "- Test both locally and remotely\n",
    "- Use MCP clients for tool invocation\n",
    "\n",
    "The deployed MCP server can now be integrated into larger AI applications and workflows!"
   ]
  }
 ],
 "metadata": {
  "kernelspec": {
   "display_name": ".venv",
   "language": "python",
   "name": "python3"
  },
  "language_info": {
   "codemirror_mode": {
    "name": "ipython",
    "version": 3
   },
   "file_extension": ".py",
   "mimetype": "text/x-python",
   "name": "python",
   "nbconvert_exporter": "python",
   "pygments_lexer": "ipython3",
   "version": "3.13.3"
  }
 },
 "nbformat": 4,
 "nbformat_minor": 5
}
