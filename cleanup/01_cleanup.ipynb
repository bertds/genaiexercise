{
 "cells": [
  {
   "cell_type": "code",
   "execution_count": null,
   "id": "1a609d48",
   "metadata": {},
   "outputs": [],
   "source": [
    "from cleanup_tagged_resources import get_tagged_resources, delete_resources\n",
    "import boto3"
   ]
  },
  {
   "cell_type": "markdown",
   "id": "9c689011",
   "metadata": {},
   "source": [
    "## Delete resources by tag"
   ]
  },
  {
   "cell_type": "code",
   "execution_count": null,
   "id": "7bed5454",
   "metadata": {},
   "outputs": [],
   "source": [
    "resources = get_tagged_resources(\"app\", \"pace_bootcamp\")\n",
    "for r in resources:\n",
    "    print(f\"Found {r}\")"
   ]
  },
  {
   "cell_type": "code",
   "execution_count": null,
   "id": "e1653b27",
   "metadata": {},
   "outputs": [],
   "source": [
    "delete_resources(resources)"
   ]
  },
  {
   "cell_type": "markdown",
   "id": "66b93288",
   "metadata": {},
   "source": [
    "## Handle deletion of untagged resources"
   ]
  },
  {
   "cell_type": "code",
   "execution_count": null,
   "id": "b067e900",
   "metadata": {},
   "outputs": [],
   "source": [
    "agentcore_control_client = boto3.client('bedrock-agentcore-control')\n",
    "ecr_client = boto3.client('ecr')\n",
    "secrets_client = boto3.client('secretsmanager')\n",
    "codebuild = boto3.client('codebuild')"
   ]
  },
  {
   "cell_type": "markdown",
   "id": "4a4632ef",
   "metadata": {},
   "source": [
    "### Delete AgentCore Runtimes"
   ]
  },
  {
   "cell_type": "code",
   "execution_count": null,
   "id": "cb924b32",
   "metadata": {},
   "outputs": [],
   "source": [
    "runtimes = agentcore_control_client.list_agent_runtimes()['agentRuntimes']\n",
    "for runtime in runtimes:\n",
    "    runtime_id = runtime['agentRuntimeId']\n",
    "    status = runtime.get('status', 'UNKNOWN')\n",
    "\n",
    "    if status == 'DELETING':\n",
    "        print(f\"Skipping AgentCore Runtime {runtime_id} - already deleting\")\n",
    "        continue\n",
    "        \n",
    "    print(f\"Deleting AgentCore Runtime {runtime_id}...\")\n",
    "    agentcore_control_client.delete_agent_runtime(\n",
    "        agentRuntimeId=runtime_id\n",
    "    )"
   ]
  },
  {
   "cell_type": "markdown",
   "id": "a2f8207d",
   "metadata": {},
   "source": [
    "### Delete Amazon Elastic Container Registry repositories "
   ]
  },
  {
   "cell_type": "code",
   "execution_count": null,
   "id": "f19e08d7",
   "metadata": {},
   "outputs": [],
   "source": [
    "print(\"Deleting ECR repository...\")\n",
    "repositories = ecr_client.describe_repositories()['repositories']\n",
    "for repository in repositories:\n",
    "    name = repository['repositoryName']\n",
    "    if name.startswith('bedrock-agentcore-mcp_server_agentcore'):\n",
    "        ecr_client.delete_repository(\n",
    "            repositoryName=name,\n",
    "            force=True\n",
    "        )\n",
    "print(\"✓ ECR repository deleted\")"
   ]
  },
  {
   "cell_type": "markdown",
   "id": "f3da1571",
   "metadata": {},
   "source": [
    "### Delete Secrets Manager Secrets"
   ]
  },
  {
   "cell_type": "code",
   "execution_count": null,
   "id": "433db50f",
   "metadata": {},
   "outputs": [],
   "source": [
    "# Get list of all secrets\n",
    "secrets = secrets_client.list_secrets()\n",
    "\n",
    "# Iterate through secrets and delete those starting with mcp_server\n",
    "for secret in secrets['SecretList']:\n",
    "    print(secret)\n",
    "    # secrets_client.delete_secret(\n",
    "    #     SecretId=secret['ARN'],\n",
    "    #     ForceDeleteWithoutRecovery=True\n",
    "    # )"
   ]
  },
  {
   "cell_type": "markdown",
   "id": "8338ab4c",
   "metadata": {},
   "source": [
    "### Delete Codebuild projects"
   ]
  },
  {
   "cell_type": "code",
   "execution_count": null,
   "id": "ef978747",
   "metadata": {},
   "outputs": [],
   "source": [
    "projects = codebuild.list_projects()['projects']\n",
    "for project in projects:\n",
    "    print(project)\n",
    "    if project.startswith('bedrock-agentcore-'):\n",
    "        codebuild.delete_project(name=project)"
   ]
  }
 ],
 "metadata": {
  "kernelspec": {
   "display_name": ".venv",
   "language": "python",
   "name": "python3"
  },
  "language_info": {
   "codemirror_mode": {
    "name": "ipython",
    "version": 3
   },
   "file_extension": ".py",
   "mimetype": "text/x-python",
   "name": "python",
   "nbconvert_exporter": "python",
   "pygments_lexer": "ipython3",
   "version": "3.13.7"
  }
 },
 "nbformat": 4,
 "nbformat_minor": 5
}
