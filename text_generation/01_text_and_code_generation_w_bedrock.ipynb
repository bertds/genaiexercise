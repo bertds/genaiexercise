{
 "cells": [
  {
   "cell_type": "markdown",
   "id": "c4f5e13a",
   "metadata": {},
   "source": [
    "# Text Generation with Amazon Bedrock\n",
    "\n",
    "> *This notebook should work well with the **`Python 3`** kernel from **`SageMaker Distribution 2.1`** in SageMaker Studio*\n",
    "\n",
    "## Introduction\n",
    "\n",
    "In this notebook, you will explore different capabilities of Amazon Bedrock and how to use foundation models for the following use cases:\n",
    "\n",
    "1. **Text Summarization**: Create concise summaries from longer text passages\n",
    "2. **Code Generation**: Generate Python and SQL code from natural language descriptions\n",
    "3. **Entity Extraction**: Extract structured information from unstructured text\n",
    "\n",
    "You'll see how to use the unified Converse API to interact with different foundation models available through Amazon Bedrock, focusing primarily on the Amazon Nova family of models.\n",
    "\n",
    "### Prerequisites\n",
    "- Access to Amazon Bedrock\n",
    "- Appropriate IAM permissions\n",
    "- Python 3.x environment"
   ]
  },
  {
   "cell_type": "code",
   "execution_count": null,
   "id": "68ae8d2e",
   "metadata": {},
   "outputs": [],
   "source": [
    "import json\n",
    "import sys\n",
    "sys.path.append('../')\n",
    "from util.model_selector import create_text_model_selector, bedrock, create_messages\n",
    "\n",
    "# Create interactive model selector\n",
    "model_selector = create_text_model_selector().display()\n",
    "\n",
    "print(\"\\n🎯 Select your preferred model above and run the cells below to see it in action!\")"
   ]
  },
  {
   "cell_type": "markdown",
   "id": "d9883d67",
   "metadata": {},
   "source": [
    "## 1. Text Summarization: Create concise summaries from longer text passages\n",
    "\n",
    "To learn the details of API requests to Amazon Bedrock, this notebook introduces how to use the unified Converse API which works consistently across all models, eliminating the need for model-specific formatting.\n",
    "\n",
    "### Unified Converse API Benefits\n",
    "\n",
    "The Converse API provides:\n",
    "- **Consistent Interface**: Same API works for all text models (Nova, Claude, Titan, etc.)\n",
    "- **Standardized Parameters**: Unified inference configuration\n",
    "- **Simplified Integration**: No need for model-specific body formatting\n",
    "- **Future Proof**: New models work automatically without code changes\n",
    "\n",
    "### Writing prompt with text to be summarized\n",
    "\n",
    "In this notebook, you can use any short text whose tokens are less than the maximum token of a foundation model. As an example of short text, let's take one paragraph of an [AWS blog post](https://aws.amazon.com/jp/blogs/machine-learning/announcing-new-tools-for-building-with-generative-ai-on-aws/) about announcement of Amazon Bedrock.\n",
    "\n",
    "The prompt starts with an instruction `Please provide a summary of the following text.`, and includes text surrounded by `<text>` tag."
   ]
  },
  {
   "cell_type": "code",
   "execution_count": null,
   "id": "5fea20fb",
   "metadata": {},
   "outputs": [],
   "source": [
    "prompt = \"\"\"\n",
    "Please provide a summary of the following text. Do not add any information that is not mentioned in the text below.\n",
    "\n",
    "<text>\n",
    "AWS took all of that feedback from customers, and today we are excited to announce Amazon Bedrock, \\\n",
    "a new service that makes FMs from AI21 Labs, Anthropic, Stability AI, and Amazon accessible via an API. \\\n",
    "Bedrock is the easiest way for customers to build and scale generative AI-based applications using FMs, \\\n",
    "democratizing access for all builders. Bedrock will offer the ability to access a range of powerful FMs \\\n",
    "for text and images—including Amazons Titan FMs, which consist of two new LLMs we're also announcing \\\n",
    "today—through a scalable, reliable, and secure AWS managed service. With Bedrock's serverless experience, \\\n",
    "customers can easily find the right model for what they're trying to get done, get started quickly, privately \\\n",
    "customize FMs with their own data, and easily integrate and deploy them into their applications using the AWS \\\n",
    "tools and capabilities they are familiar with, without having to manage any infrastructure (including integrations \\\n",
    "with Amazon SageMaker ML features like Experiments to test different models and Pipelines to manage their FMs at scale).\n",
    "</text>\n",
    "\n",
    "\"\"\""
   ]
  },
  {
   "cell_type": "markdown",
   "id": "f96dc786",
   "metadata": {},
   "source": [
    "### Invoke foundation model via Unified Converse API\n",
    "\n",
    "This section demonstrates how to send API requests to Amazon Bedrock using the unified Converse API. The beauty of this approach is that the same code works with any text model - you just change the model selection above!\n",
    "\n",
    "The foundation model will process the input based on the provided prompt and model-specific configuration parameters. In the following example, the foundation model in Amazon Bedrock summarizes the text."
   ]
  },
  {
   "cell_type": "code",
   "execution_count": null,
   "id": "1b929568",
   "metadata": {},
   "outputs": [],
   "source": [
    "# Get the selected model\n",
    "selected_model = model_selector.get_model_id()\n",
    "model_info = model_selector.get_model_info()\n",
    "\n",
    "print(f\"Using model: {model_info['name']} ({selected_model})\")\n",
    "print(f\"Description: {model_info['description']}\")\n",
    "print(\"\\n\" + \"=\"*50 + \"\\n\")\n",
    "\n",
    "# Create messages using our helper function\n",
    "messages = create_messages(prompt)\n",
    "\n",
    "print(f\"Sending messages:\\n{json.dumps(messages, indent=4)}\")\n",
    "\n",
    "# Invoke the model using unified API\n",
    "try:\n",
    "    response = bedrock.converse(\n",
    "        model_id=selected_model,\n",
    "        messages=messages,\n",
    "        max_tokens=300,\n",
    "        temperature=0.3,\n",
    "        top_p=0.9\n",
    "    )\n",
    "    \n",
    "    if response:\n",
    "        print(\"📝 Summary:\")\n",
    "        print(response)\n",
    "    else:\n",
    "        print(\"❌ Failed to generate response\")\n",
    "        \n",
    "except Exception as error:\n",
    "    print(f\"❌ Error: {str(error)}\")\n",
    "    print(\"\\nTo troubleshoot this issue please refer to the following resources:\")\n",
    "    print(\"https://docs.aws.amazon.com/IAM/latest/UserGuide/troubleshoot_access-denied.html\")\n",
    "    print(\"https://docs.aws.amazon.com/bedrock/latest/userguide/security-iam.html\")"
   ]
  },
  {
   "cell_type": "markdown",
   "id": "5e4c7e59",
   "metadata": {},
   "source": [
    "### Compare Different Models\n",
    "\n",
    "The beauty of our unified system is that you can easily compare different models by simply changing the selection above and re-running the cell. Try selecting different models to see how they perform on the same task!\n",
    "\n",
    "### Conclusion on Text Summarization\n",
    "\n",
    "You have now experimented with using the unified Converse API which provides a consistent interface across all Amazon Bedrock models. Using this API you have seen the use case of generating a summary of AWS news about Amazon Bedrock.\n",
    "\n",
    "### Additional challenges\n",
    "\n",
    "- Experiment with different models using the dropdown selector above\n",
    "- Change the prompts to your specific usecase and evaluate the output of different models\n",
    "- Play with the token length to understand the latency and responsiveness of the service\n",
    "- Apply different prompt engineering principles to get better outputs"
   ]
  },
  {
   "cell_type": "markdown",
   "id": "5b52b36a",
   "metadata": {},
   "source": [
    "## 2. Code Generation: Generate Python and SQL code from natural language descriptions\n",
    "\n",
    "### Introduction\n",
    "\n",
    "In this section we show you how to use a LLM to generate code based on the text prompt. We will use the unified Converse API that works with any model you select.\n",
    "\n",
    "The prompt used in this example is called a zero-shot prompt because we are not providing any examples of text other than the prompt.\n",
    "\n",
    "**Note:** *This notebook can be run within or outside of AWS environment.*\n",
    "\n",
    "##### Context\n",
    "To demonstrate the code generation capability of Amazon Bedrock, we will explore the use of the unified Converse API. We will demonstrate different configurations available as well as how simple input can lead to desired outputs. We will explore code generation for two use cases:\n",
    "\n",
    "1. Python code generation for analytical QnA\n",
    "2. SQL query generation\n",
    "\n",
    "##### Pattern\n",
    "\n",
    "In both use cases, we will simply provide the Amazon Bedrock API with an input consisting of a task, an instruction and an input for the model under the hood to generate an output without providing any additional example. The purpose here is to demonstrate how the powerful LLMs easily understand the task at hand and generate compelling outputs.\n",
    "\n",
    "### Use case 1 - Python code generation for Analytical QnA\n",
    "\n",
    "To demonstrate the generation capability of models in Amazon Bedrock, let's take the use case of code generation with Python to do some basic analytical QnA.\n",
    "\n",
    "##### Persona\n",
    "\n",
    "You are Moe, a Data Analyst, at AnyCompany. The company wants to understand its sales performance for different products over the past year. You have been provided a dataset named sales.csv. The dataset contains the following columns:\n",
    "\n",
    "- Date (YYYY-MM-DD) format\n",
    "- Product_ID (unique identifier for each product)\n",
    "- Price (price at which each product was sold)\n",
    "\n",
    "##### Implementation\n",
    "\n",
    "To fulfill this use case, in this notebook we will show how to generate code for a given prompt using our unified model selection system."
   ]
  },
  {
   "cell_type": "markdown",
   "id": "3cde814a",
   "metadata": {},
   "source": [
    "#### Lab setup - create sample sales.csv data for this lab.\n",
    "\n",
    "Following on the use case explained above, let's prepare an input for the Amazon Bedrock service to generate python program for our use-case."
   ]
  },
  {
   "cell_type": "code",
   "execution_count": null,
   "id": "bcf09f56",
   "metadata": {},
   "outputs": [],
   "source": [
    "# create sales.csv file\n",
    "import csv\n",
    "\n",
    "data = [\n",
    "    [\"date\", \"product_id\", \"price\", \"units_sold\"],\n",
    "    [\"2023-01-01\", \"P001\", 50, 20],\n",
    "    [\"2023-01-02\", \"P002\", 60, 15],\n",
    "    [\"2023-01-03\", \"P001\", 50, 18],\n",
    "    [\"2023-01-04\", \"P003\", 70, 30],\n",
    "    [\"2023-01-05\", \"P001\", 50, 25],\n",
    "    [\"2023-01-06\", \"P002\", 60, 22],\n",
    "    [\"2023-01-07\", \"P003\", 70, 24],\n",
    "    [\"2023-01-08\", \"P001\", 50, 28],\n",
    "    [\"2023-01-09\", \"P002\", 60, 17],\n",
    "    [\"2023-01-10\", \"P003\", 70, 29],\n",
    "    [\"2023-02-11\", \"P001\", 50, 23],\n",
    "    [\"2023-02-12\", \"P002\", 60, 19],\n",
    "    [\"2023-02-13\", \"P001\", 50, 21],\n",
    "    [\"2023-02-14\", \"P003\", 70, 31],\n",
    "    [\"2023-03-15\", \"P001\", 50, 26],\n",
    "    [\"2023-03-16\", \"P002\", 60, 20],\n",
    "    [\"2023-03-17\", \"P003\", 70, 33],\n",
    "    [\"2023-04-18\", \"P001\", 50, 27],\n",
    "    [\"2023-04-19\", \"P002\", 60, 18],\n",
    "    [\"2023-04-20\", \"P003\", 70, 32],\n",
    "    [\"2023-04-21\", \"P001\", 50, 22],\n",
    "    [\"2023-04-22\", \"P002\", 60, 16],\n",
    "    [\"2023-04-23\", \"P003\", 70, 34],\n",
    "    [\"2023-05-24\", \"P001\", 50, 24],\n",
    "    [\"2023-05-25\", \"P002\", 60, 21]\n",
    "]\n",
    "\n",
    "# Write data to sales.csv\n",
    "with open('sales.csv', 'w', newline='') as csvfile:\n",
    "    writer = csv.writer(csvfile)\n",
    "    writer.writerows(data)\n",
    "\n",
    "print(\"sales.csv has been created!\")"
   ]
  },
  {
   "cell_type": "markdown",
   "id": "35e09e97",
   "metadata": {},
   "source": [
    "#### Analyzing sales with Amazon Bedrock generated Python program"
   ]
  },
  {
   "cell_type": "code",
   "execution_count": null,
   "id": "d51064c9",
   "metadata": {},
   "outputs": [],
   "source": [
    "# Create the prompt for code generation\n",
    "prompt_data = \"\"\"\n",
    "You have a CSV, sales.csv, with columns:\n",
    "- date (YYYY-MM-DD)\n",
    "- product_id\n",
    "- price\n",
    "- units_sold\n",
    "\n",
    "Create a python program to analyze the sales data from a CSV file. The program should be able to read the data, and determine below:\n",
    "\n",
    "- Total revenue for the year\n",
    "- The product with the highest revenue\n",
    "- The date with the highest revenue\n",
    "- Visualize monthly sales using a bar chart\n",
    "\n",
    "Ensure the code is syntactically correct, bug-free, optimized, not span multiple lines unnecessarily, and prefer to use standard libraries. Return only python code without any surrounding text, explanation or context.\n",
    "Do not use pandas library for the solution.\n",
    "\"\"\""
   ]
  },
  {
   "cell_type": "markdown",
   "id": "df6df7fb",
   "metadata": {},
   "source": [
    "Generate the code using the selected model:"
   ]
  },
  {
   "cell_type": "code",
   "execution_count": null,
   "id": "2465e67c",
   "metadata": {},
   "outputs": [],
   "source": [
    "from IPython.display import display, Markdown\n",
    "\n",
    "# Get the selected model\n",
    "selected_model = model_selector.get_model_id()\n",
    "model_info = model_selector.get_model_info()\n",
    "\n",
    "print(f\"🔧 Generating Python code using: {model_info['name']}\")\n",
    "print(\"\\n\" + \"=\"*50 + \"\\n\")\n",
    "\n",
    "# Create messages\n",
    "messages = create_messages(prompt_data)\n",
    "\n",
    "# Generate code\n",
    "response = bedrock.converse(\n",
    "    model_id=selected_model,\n",
    "    messages=messages,\n",
    "    max_tokens=4096,\n",
    "    temperature=0.1,\n",
    "    top_p=0.99\n",
    ")\n",
    "\n",
    "if response:\n",
    "    print(\"📋 Generated Python Code:\")\n",
    "    display(Markdown(f\"```python\\n{response}\\n```\"))\n",
    "else:\n",
    "    print(\"❌ Failed to generate code\")"
   ]
  },
  {
   "cell_type": "markdown",
   "id": "7bd05559",
   "metadata": {},
   "source": [
    "#### (Optional) Execute the Bedrock generated code for validation\n",
    "\n",
    "Copy the generated code from above and paste it in the cell below to test it:"
   ]
  },
  {
   "cell_type": "code",
   "execution_count": null,
   "id": "16f9165d",
   "metadata": {},
   "outputs": [],
   "source": [
    "# Paste the generated code here and run to test\n",
    "# Example generated code (replace with actual generated code):\n",
    "\n",
    "import csv\n",
    "from collections import defaultdict\n",
    "import matplotlib.pyplot as plt\n",
    "\n",
    "revenue = 0\n",
    "monthly_revenue = defaultdict(int)\n",
    "product_revenue = defaultdict(int)\n",
    "daily_revenue = {}\n",
    "\n",
    "with open('sales.csv') as f:\n",
    "    reader = csv.reader(f)\n",
    "    next(reader)  # Skip header\n",
    "    for row in reader:\n",
    "        date = row[0]\n",
    "        product = row[1]\n",
    "        price = float(row[2])\n",
    "        units = int(row[3])\n",
    "        \n",
    "        daily_rev = price * units\n",
    "        revenue += daily_rev\n",
    "        product_revenue[product] += daily_rev\n",
    "        monthly_revenue[date[:7]] += daily_rev\n",
    "        daily_revenue[date] = daily_revenue.get(date, 0) + daily_rev\n",
    "\n",
    "# Results\n",
    "max_product = max(product_revenue, key=product_revenue.get)\n",
    "max_date = max(daily_revenue, key=daily_revenue.get)\n",
    "\n",
    "print(f'Total Revenue: ${revenue:,.2f}')\n",
    "print(f'Product with highest revenue: {max_product} (${product_revenue[max_product]:,.2f})')\n",
    "print(f'Date with highest revenue: {max_date} (${daily_revenue[max_date]:,.2f})')\n",
    "\n",
    "# Visualization\n",
    "months = list(monthly_revenue.keys())\n",
    "values = list(monthly_revenue.values())\n",
    "\n",
    "plt.figure(figsize=(10, 6))\n",
    "plt.bar(months, values)\n",
    "plt.xlabel('Month')\n",
    "plt.ylabel('Revenue ($)')\n",
    "plt.title('Monthly Revenue')\n",
    "plt.xticks(rotation=45)\n",
    "plt.tight_layout()\n",
    "plt.show()"
   ]
  },
  {
   "cell_type": "markdown",
   "id": "9a705e36",
   "metadata": {},
   "source": [
    "### Use case 2 - SQL query generation\n",
    "\n",
    "In this section we show you how to use a LLM to generate SQL queries to analyze Sales data. We will use Amazon Nova Pro model using the Boto3 API. \n",
    "\n",
    "The prompt used in this example is called a zero-shot prompt because we are not providing any examples of text other than the prompt.\n",
    "\n",
    "##### Pattern\n",
    "We will simply provide the Amazon Bedrock API with an input consisting of a task, an instruction and an input for the model to generate an output without providing any additional examples. The purpose here is to demonstrate how the powerful LLMs easily understand the task at hand and generate compelling outputs.\n",
    "\n",
    "##### Use case\n",
    "Let's take the use case to generate SQL queries to analyze sales data, focusing on top products and average monthly sales.\n",
    "\n",
    "##### Persona\n",
    "Maya is a business analyst, at AnyCompany primarily focusing on sales and inventory data. She is transitioning from Speadsheet analysis to data-driven analysis and want to use SQL to fetch specific data points effectively. She wants to use LLMs to generate SQL queries for her analysis. \n",
    "\n",
    "##### Implementation\n",
    "To fulfill this use case, in this notebook we will show how to generate SQL queries. We will use the Amazon Nova Pro model using the Amazon Bedrock API with Boto3 client. "
   ]
  },
  {
   "cell_type": "markdown",
   "id": "902aab8b",
   "metadata": {},
   "source": [
    "#### Generate SQL Query\n",
    "\n",
    "Following on the use case explained above, let's prepare an input for  the Amazon Bedrock service to generate some SQL queries."
   ]
  },
  {
   "cell_type": "code",
   "execution_count": null,
   "id": "09205c8e",
   "metadata": {},
   "outputs": [],
   "source": [
    "# create the prompt to generate SQL query\n",
    "prompt_data = \"\"\"\n",
    "AnyCompany has a database with a table named sales_data containing sales records. The table has following columns:\n",
    "- date (YYYY-MM-DD)\n",
    "- product_id\n",
    "- price\n",
    "- units_sold\n",
    "\n",
    "Can you generate SQL queries for the below: \n",
    "- Identify the top 5 best selling products by total sales for the year 2023\n",
    "- Calculate the average of total monthly sales for the year 2023\n",
    "\"\"\""
   ]
  },
  {
   "cell_type": "code",
   "execution_count": null,
   "id": "ae67a4b9",
   "metadata": {},
   "outputs": [],
   "source": [
    "from IPython.display import display, Markdown\n",
    "\n",
    "# Get the selected model\n",
    "selected_model = model_selector.get_model_id()\n",
    "model_info = model_selector.get_model_info()\n",
    "\n",
    "print(f\"🗄️ Generating SQL queries using: {model_info['name']}\")\n",
    "print(\"\\n\" + \"=\"*50 + \"\\n\")\n",
    "\n",
    "# Create messages\n",
    "messages = create_messages(prompt_data)\n",
    "\n",
    "# Generate SQL using unified Converse API\n",
    "response = bedrock.converse(\n",
    "    model_id=selected_model,\n",
    "    messages=messages,\n",
    "    max_tokens=4096,\n",
    "    temperature=0.1,\n",
    "    top_p=0.99\n",
    ")\n",
    "\n",
    "if response:\n",
    "    print(\"📊 Generated SQL Queries:\")\n",
    "    display(Markdown(response))\n",
    "else:\n",
    "    print(\"❌ Failed to generate SQL queries\")\n"
   ]
  },
  {
   "cell_type": "markdown",
   "id": "a3660c4c",
   "metadata": {},
   "source": [
    "### Conclusion on Code Generation\n",
    "You have now experimented with using `boto3` SDK which provides a vanilla exposure to Amazon Bedrock API. Using this API you generate a python program to analyze and visualize given sales data, and generate SQL statements based on an input task and schema."
   ]
  },
  {
   "cell_type": "markdown",
   "id": "afe1e937",
   "metadata": {},
   "source": [
    "## 3. Entity Extraction: Extract structured information from unstructured text\n",
    "\n",
    "### Context\n",
    "Entity extraction is an NLP technique that allows us to automatically extract specific data from naturally written text, such as news, emails, books, etc.\n",
    "That data can then later be saved to a database, used for lookup or any other type of processing.\n",
    "\n",
    "Classic entity extraction programs usually limit you to pre-defined classes, such as name, address, price, etc. or require you to provide many examples of types of entities you are interested in.\n",
    "By using a LLM for entity extraction, in most cases you are only required to specify what you need to extract in natural language. This gives you flexibility and accuracy in your queries, while saving time by removing the need for data labeling.\n",
    "\n",
    "In addition, LLM entity extraction can be used to help you assemble a dataset to create a customised solution for your use case, such as [Amazon Comprehend custom entity](https://docs.aws.amazon.com/comprehend/latest/dg/custom-entity-recognition.html) recognition."
   ]
  },
  {
   "cell_type": "markdown",
   "id": "dec77dfc",
   "metadata": {},
   "source": [
    "### Entity Extraction\n",
    "\n",
    "For this exercise we will pretend to be an online bookstore that receives questions and orders by email.\n",
    "Our task is to extract relevant information from the email to process the order.\n",
    "\n",
    "Let's begin by taking a look at the sample email:"
   ]
  },
  {
   "cell_type": "code",
   "execution_count": null,
   "id": "b1a3a618",
   "metadata": {},
   "outputs": [],
   "source": [
    "from pathlib import Path\n",
    "\n",
    "emails_dir = Path(\".\") / \"emails\"\n",
    "with open(emails_dir / \"00_treasure_island.txt\") as f:\n",
    "    book_question_email = f.read()\n",
    "\n",
    "print(book_question_email)"
   ]
  },
  {
   "cell_type": "markdown",
   "id": "5dbd6c28",
   "metadata": {},
   "source": [
    "### Basic approach\n",
    "\n",
    "First, let's define a function to process queries using our selected model. In the below, we use a system prompt to tell the\n",
    "LLM to act as a bookstore assistant."
   ]
  },
  {
   "cell_type": "code",
   "execution_count": null,
   "id": "94f5424f",
   "metadata": {},
   "outputs": [],
   "source": [
    "def bookstore_assistant(query: str) -> str:\n",
    "    \"\"\"\n",
    "    Process bookstore queries using the unified Converse API with the selected model.\n",
    "    \"\"\"\n",
    "    # Get the selected model\n",
    "    selected_model = model_selector.get_model_id()\n",
    "    \n",
    "    # Create messages - just the user message\n",
    "    messages = create_messages(query)\n",
    "    \n",
    "    # Use unified Converse API with system message parameter\n",
    "    response = bedrock.converse(\n",
    "        model_id=selected_model,\n",
    "        messages=messages,\n",
    "        max_tokens=4096,\n",
    "        temperature=0.1,\n",
    "        top_p=0.99\n",
    "    )\n",
    "    \n",
    "    return response if response else \"\""
   ]
  },
  {
   "cell_type": "markdown",
   "id": "3b9f7ec0",
   "metadata": {},
   "source": [
    "For basic cases we can directly ask the model to return the result. Let's try extracting the name of the book."
   ]
  },
  {
   "cell_type": "code",
   "execution_count": null,
   "id": "698e5441",
   "metadata": {},
   "outputs": [],
   "source": [
    "query = f\"\"\"\n",
    "Given the email inside triple-backticks, please read it and analyse the contents.\n",
    "If a name of a book is mentioned, return it, otherwise return nothing.\n",
    "\n",
    "Email: ```\n",
    "{book_question_email}\n",
    "```\n",
    "\n",
    "\"\"\""
   ]
  },
  {
   "cell_type": "code",
   "execution_count": null,
   "id": "24b807c3",
   "metadata": {},
   "outputs": [],
   "source": [
    "result = bookstore_assistant(query)\n",
    "print(result)"
   ]
  },
  {
   "cell_type": "markdown",
   "id": "9de0e9d1",
   "metadata": {},
   "source": [
    "### Model specific prompts\n",
    "\n",
    "While basic approach works, to achieve best results we recommend to apply prompt engineering approaches according to the best practices of the used model e.g. [Amazon Nova's prompting best practices](https://docs.aws.amazon.com/nova/latest/userguide/prompting.html), or [Anthropic's prompt engineering](https://docs.anthropic.com/en/docs/build-with-claude/prompt-engineering/).\n",
    "\n",
    "Here is an example prompt for Anthropic's recommendation to [use XML tags](https://docs.anthropic.com/en/docs/build-with-claude/prompt-engineering/use-xml-tags):"
   ]
  },
  {
   "cell_type": "code",
   "execution_count": null,
   "id": "9e4f602b",
   "metadata": {},
   "outputs": [],
   "source": [
    "prompt = \"\"\"\n",
    "\n",
    "Given the email provided, please read it and analyse the contents.\n",
    "If a name of a book is mentioned, return it.\n",
    "If no name is mentioned, return empty string.\n",
    "The email will be given between <email></email> XML tags.\n",
    "\n",
    "<email>\n",
    "{email}\n",
    "</email>\n",
    "\n",
    "Return the name of the book between <book></book> XML tags.\n",
    "\n",
    "\"\"\"\n",
    "query = prompt.format(email=book_question_email)"
   ]
  },
  {
   "cell_type": "code",
   "execution_count": null,
   "id": "601ffe06",
   "metadata": {},
   "outputs": [],
   "source": [
    "result = bookstore_assistant(query)\n",
    "print(result)"
   ]
  },
  {
   "cell_type": "markdown",
   "id": "f0c54a32",
   "metadata": {},
   "source": [
    "To extract results easier, we can use a helper function:"
   ]
  },
  {
   "cell_type": "code",
   "execution_count": null,
   "id": "780e3643",
   "metadata": {},
   "outputs": [],
   "source": [
    "from bs4 import BeautifulSoup\n",
    "\n",
    "def extract_by_tag(response: str, tag: str, extract_all=False) -> str | list[str] | None:\n",
    "    soup = BeautifulSoup(response)\n",
    "    results = soup.find_all(tag)\n",
    "    if not results:\n",
    "        return\n",
    "        \n",
    "    texts = [res.get_text() for res in results]\n",
    "    if extract_all:\n",
    "        return texts\n",
    "    return texts[-1]"
   ]
  },
  {
   "cell_type": "code",
   "execution_count": null,
   "id": "d8c64bc0",
   "metadata": {},
   "outputs": [],
   "source": [
    "extract_by_tag(result, \"book\")"
   ]
  },
  {
   "cell_type": "markdown",
   "id": "ea235a81",
   "metadata": {},
   "source": [
    "We can check that our model doesn't return arbitrary results when no appropriate information is given (also know as 'hallucination'), by running our prompt on other emails."
   ]
  },
  {
   "cell_type": "code",
   "execution_count": null,
   "id": "57079295",
   "metadata": {},
   "outputs": [],
   "source": [
    "with open(emails_dir / \"01_return.txt\") as f:\n",
    "    return_email = f.read()\n",
    "\n",
    "print(return_email)"
   ]
  },
  {
   "cell_type": "code",
   "execution_count": null,
   "id": "4611536c",
   "metadata": {},
   "outputs": [],
   "source": [
    "query = prompt.format(email=return_email)\n",
    "result = bookstore_assistant(query)\n",
    "print(result)"
   ]
  },
  {
   "cell_type": "markdown",
   "id": "32e88bb4",
   "metadata": {},
   "source": [
    "Using tags also allows us to extract multiple pieces of information at the same time and makes extraction much easier.\n",
    "In the following prompt we will extract not just the book name, but any questions, requests and customer name."
   ]
  },
  {
   "cell_type": "code",
   "execution_count": null,
   "id": "c4c464d6",
   "metadata": {},
   "outputs": [],
   "source": [
    "prompt = \"\"\"\n",
    "Given email provided , please read it and analyse the contents.\n",
    "\n",
    "Please extract the following information from the email:\n",
    "- Any questions the customer is asking, return it inside <questions></questions> XML tags.\n",
    "- The customer's full name, return it inside <name></name> XML tags.\n",
    "- Any book names the customer mentions, return it inside <books></books> XML tags.\n",
    "\n",
    "If a particular bit of information is not present, return an empty string.\n",
    "Make sure that each question can be understoon by itself, incorporate context if requred.\n",
    "Each returned question should be concise, remove extra information if possible.\n",
    "The email will be given between <email></email> XML tags.\n",
    "\n",
    "<email>\n",
    "{email}\n",
    "</email>\n",
    "\n",
    "Return each question inside <question></question> XML tags.\n",
    "Return the name of each book inside <book></book> XML tags.\n",
    "\"\"\""
   ]
  },
  {
   "cell_type": "code",
   "execution_count": null,
   "id": "eb28d2da",
   "metadata": {},
   "outputs": [],
   "source": [
    "query = prompt.format(email=book_question_email)\n",
    "result = bookstore_assistant(query)\n",
    "print(result)"
   ]
  },
  {
   "cell_type": "code",
   "execution_count": null,
   "id": "ca77fdb3",
   "metadata": {},
   "outputs": [],
   "source": [
    "extract_by_tag(result, \"question\", extract_all=True)"
   ]
  },
  {
   "cell_type": "code",
   "execution_count": null,
   "id": "0d5e46ba",
   "metadata": {},
   "outputs": [],
   "source": [
    "extract_by_tag(result, \"name\")"
   ]
  },
  {
   "cell_type": "code",
   "execution_count": null,
   "id": "a012b372",
   "metadata": {},
   "outputs": [],
   "source": [
    "extract_by_tag(result, \"book\", extract_all=True)"
   ]
  },
  {
   "cell_type": "markdown",
   "id": "fbd881de",
   "metadata": {},
   "source": [
    "### Conclusion on Entity Extraction\n",
    "\n",
    "Entity extraction is a powerful technique which can extract arbitrary data from plain text descriptions.\n",
    "\n",
    "This is particularly useful when you need to extract specific data which doesn't have clear structure. In such cases regex and other traditional extraction techniques can be very difficult to implement.\n",
    "\n",
    "### Additional challenges\n",
    "- Change the prompts to your specific usecase and evaluate the output of different models.\n",
    "- Apply different prompt engineering principles to get better outputs. Refer to the prompt guide for your chosen model for recommendations, e.g. [here is the prompt guide for Claude](https://docs.anthropic.com/claude/docs/introduction-to-prompt-design)."
   ]
  },
  {
   "cell_type": "markdown",
   "id": "00b569aa",
   "metadata": {},
   "source": [
    "## Conclusion\n",
    "\n",
    "In this notebook, we've explored text generation capabilities with Amazon Bedrock for the following use cases:\n",
    "\n",
    "1. **Text Summarization**: Create concise summaries from longer text passages\n",
    "2. **Code Generation**: Generate Python and SQL code from natural language descriptions\n",
    "3. **Entity Extraction**: Extract structured information from unstructured text\n"
   ]
  }
 ],
 "metadata": {
  "kernelspec": {
   "display_name": ".venv",
   "language": "python",
   "name": "python3"
  },
  "language_info": {
   "codemirror_mode": {
    "name": "ipython",
    "version": 3
   },
   "file_extension": ".py",
   "mimetype": "text/x-python",
   "name": "python",
   "nbconvert_exporter": "python",
   "pygments_lexer": "ipython3",
   "version": "3.13.7"
  }
 },
 "nbformat": 4,
 "nbformat_minor": 5
}
